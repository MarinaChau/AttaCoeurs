{
  "cells": [
    {
      "cell_type": "markdown",
      "metadata": {
        "id": "view-in-github",
        "colab_type": "text"
      },
      "source": [
        "<a href=\"https://colab.research.google.com/github/MarinaChau/AttaCoeurs/blob/main/BlackBox_Attack_Project.ipynb\" target=\"_parent\"><img src=\"https://colab.research.google.com/assets/colab-badge.svg\" alt=\"Open In Colab\"/></a>"
      ]
    },
    {
      "cell_type": "code",
      "source": [
        "%load_ext autoreload\n",
        "%autoreload 2"
      ],
      "metadata": {
        "id": "sxr5WysIrbro"
      },
      "execution_count": 3,
      "outputs": []
    },
    {
      "cell_type": "code",
      "execution_count": 4,
      "metadata": {
        "colab": {
          "base_uri": "https://localhost:8080/"
        },
        "id": "4ZaitpXZFXhR",
        "outputId": "6b5cc00d-56dd-4376-a39c-ed9829245f19"
      },
      "outputs": [
        {
          "output_type": "stream",
          "name": "stdout",
          "text": [
            "Mounted at myDrive\n"
          ]
        }
      ],
      "source": [
        "from google.colab import drive\n",
        "drive.mount('myDrive')"
      ]
    },
    {
      "cell_type": "code",
      "source": [
        "!git clone https://github.com/MarinaChau/AttaCoeurs.git"
      ],
      "metadata": {
        "colab": {
          "base_uri": "https://localhost:8080/"
        },
        "id": "hFqmxDaUZkX-",
        "outputId": "180d21cb-9d8e-4d98-e37c-dc7ac458d2ce"
      },
      "execution_count": 5,
      "outputs": [
        {
          "output_type": "stream",
          "name": "stdout",
          "text": [
            "Cloning into 'AttaCoeurs'...\n",
            "remote: Enumerating objects: 155, done.\u001b[K\n",
            "remote: Counting objects: 100% (151/151), done.\u001b[K\n",
            "remote: Compressing objects: 100% (95/95), done.\u001b[K\n",
            "remote: Total 155 (delta 66), reused 118 (delta 48), pack-reused 4\u001b[K\n",
            "Receiving objects: 100% (155/155), 8.97 MiB | 27.93 MiB/s, done.\n",
            "Resolving deltas: 100% (66/66), done.\n"
          ]
        }
      ]
    },
    {
      "cell_type": "markdown",
      "metadata": {
        "id": "-8Oog7aixj9W"
      },
      "source": [
        "# Project Adversarial Attack"
      ]
    },
    {
      "cell_type": "code",
      "source": [
        "%cd AttaCoeurs"
      ],
      "metadata": {
        "colab": {
          "base_uri": "https://localhost:8080/"
        },
        "id": "ziKIrP7iat2z",
        "outputId": "b8547ba9-b2c7-4937-899c-99b45a3603bf"
      },
      "execution_count": 6,
      "outputs": [
        {
          "output_type": "stream",
          "name": "stdout",
          "text": [
            "/content/AttaCoeurs\n"
          ]
        }
      ]
    },
    {
      "cell_type": "code",
      "source": [
        "import tensorflow as tf\n",
        "\n",
        "import numpy as np\n",
        "import matplotlib.pyplot as plt\n",
        "\n",
        "from AttaCoeurs.src import adversarial_attacks as attacks\n",
        "from AttaCoeurs.src import custom_model as models"
      ],
      "metadata": {
        "id": "8lCQB3SdaEKy"
      },
      "execution_count": 7,
      "outputs": []
    },
    {
      "cell_type": "markdown",
      "metadata": {
        "id": "oZ_C_UP5z1rt"
      },
      "source": [
        "\n",
        "\n",
        "## 1.1 Code `∞-PGD attack & Observe robustness of neural networks\n"
      ]
    },
    {
      "cell_type": "markdown",
      "source": [
        "### STEP 1: Load Cifar10 Dataset"
      ],
      "metadata": {
        "id": "-eVtdey5cZoQ"
      }
    },
    {
      "cell_type": "code",
      "source": [
        "# Load Cifar dataset from keras\n",
        "(x_train,y_train), (x_test,y_test) = tf.keras.datasets.cifar10.load_data()\n",
        "\n",
        "# Preprocess\n",
        "x_train = tf.constant(x_train.reshape(50000,32, 32,3).astype(\"float32\") / 255)\n",
        "x_test = tf.constant(x_test.reshape(10000, 32, 32, 3).astype(\"float32\") / 255)\n",
        "\n",
        "y_train = tf.constant(y_train.astype(\"float32\"))\n",
        "y_test = tf.constant(y_test.astype(\"float32\"))\n",
        "\n",
        "\n",
        "\n",
        "print(f\"x_train shape: {x_train.shape}\")\n",
        "print(f\"y_train shape: {y_train.shape}\")\n",
        "print(f\"x_test shape: {x_test.shape}\")\n",
        "print(f\"y_test shape: {y_test.shape}\")"
      ],
      "metadata": {
        "colab": {
          "base_uri": "https://localhost:8080/"
        },
        "id": "pKa-K5Ghcdsr",
        "outputId": "72f5299d-7a36-4a84-e22a-3baa05631c9c"
      },
      "execution_count": 8,
      "outputs": [
        {
          "output_type": "stream",
          "name": "stdout",
          "text": [
            "Downloading data from https://www.cs.toronto.edu/~kriz/cifar-10-python.tar.gz\n",
            "170500096/170498071 [==============================] - 3s 0us/step\n",
            "170508288/170498071 [==============================] - 3s 0us/step\n",
            "x_train shape: (50000, 32, 32, 3)\n",
            "y_train shape: (50000, 1)\n",
            "x_test shape: (10000, 32, 32, 3)\n",
            "y_test shape: (10000, 1)\n"
          ]
        }
      ]
    },
    {
      "cell_type": "code",
      "source": [
        "dict = {0 : \"airplane\",\n",
        "        1 : \"automobile\",\n",
        "        2 :\"bird\",\n",
        "        3 : \"cat\",\n",
        "        4:  \"deer\",\n",
        "        5: \"dog\",\n",
        "        6 : \"frog\",\n",
        "        7 : \"horse\",\n",
        "        8 : \"ship\",\n",
        "        9 : \"truck\"}"
      ],
      "metadata": {
        "id": "xbGxYSg3O5pj"
      },
      "execution_count": 9,
      "outputs": []
    },
    {
      "cell_type": "markdown",
      "source": [
        "### STEP 2 Build a simpler Classifier"
      ],
      "metadata": {
        "id": "UvBS8EAoc2po"
      }
    },
    {
      "cell_type": "code",
      "source": [
        "# Parameters for the architecture of convolutional neural networks\n",
        "class CnnParams(object):\n",
        "    def __init__(self):\n",
        "        # Model hyperparameters\n",
        "        self.input_shape = [32, 32, 3]\n",
        "        self.num_classes = 10\n",
        "        self.num_conv_filters = [32, 32, 64, 64, 128, 128]  # I made the network similar to VGG3 architecture + dropout\n",
        "        self.kernel_size = (3, 3)\n",
        "        self.pool_size = (2, 2)\n",
        "        self.num_fc_units = [128]\n",
        "        \n",
        "cnn_params = CnnParams()\n",
        "\n",
        "\n",
        "def get_cnn_model(adv_training_with=None, gaussian_noise=0.2):\n",
        "    # Define Model layers\n",
        "    inputs = tf.keras.Input(shape=cnn_params.input_shape,\n",
        "                            dtype=tf.float32, name=\"image\")\n",
        "\n",
        "    x = inputs\n",
        "    #x = tf.keras.layers.GaussianNoise(stddev=gaussian_noise)(x)\n",
        "    \n",
        "    # Convolutional layer followed by \n",
        "    for i, num_filters in enumerate(cnn_params.num_conv_filters):\n",
        "        x = tf.keras.layers.Conv2D(\n",
        "            num_filters, cnn_params.kernel_size, padding='same', activation='relu', kernel_initializer='he_uniform')(x)\n",
        "        if i < len(cnn_params.num_conv_filters) - 1:\n",
        "            # max pooling between convolutional layers + dropout\n",
        "            x = tf.keras.layers.MaxPooling2D(cnn_params.pool_size)(x)\n",
        "            # x = tf.keras.layers.Dropout(0.25)(x)            # OK, I got better results without the dropout - 63% to 77%\n",
        "    \n",
        "    x = tf.keras.layers.Flatten()(x)\n",
        "\n",
        "    for num_units in cnn_params.num_fc_units:\n",
        "        x = tf.keras.layers.Dense(num_units, activation='relu')(x)\n",
        "\n",
        "    pred = tf.keras.layers.Dense(cnn_params.num_classes, activation='softmax')(x)\n",
        "    \n",
        "\n",
        "    return models.CustomModel(inputs=inputs, outputs=pred, \n",
        "                              adv_training_with=adv_training_with)\n",
        "\n"
      ],
      "metadata": {
        "id": "NTQ8xLzHc5v1"
      },
      "execution_count": 10,
      "outputs": []
    },
    {
      "cell_type": "code",
      "source": [
        "LOSS = tf.keras.losses.SparseCategoricalCrossentropy()\n",
        "METRICS = [tf.keras.metrics.SparseCategoricalAccuracy]\n",
        "OPTIMIZER = tf.keras.optimizers.RMSprop()"
      ],
      "metadata": {
        "id": "lH49o5R3dcez"
      },
      "execution_count": 11,
      "outputs": []
    },
    {
      "cell_type": "code",
      "source": [
        "model = get_cnn_model()\n",
        "model.summary()"
      ],
      "metadata": {
        "colab": {
          "base_uri": "https://localhost:8080/"
        },
        "id": "-lFLKkkwdhfZ",
        "outputId": "ad13c3bb-05f9-4c96-f760-2deed37c8ce5"
      },
      "execution_count": 12,
      "outputs": [
        {
          "output_type": "stream",
          "name": "stdout",
          "text": [
            "Model: \"custom_model\"\n",
            "_________________________________________________________________\n",
            " Layer (type)                Output Shape              Param #   \n",
            "=================================================================\n",
            " image (InputLayer)          [(None, 32, 32, 3)]       0         \n",
            "                                                                 \n",
            " conv2d (Conv2D)             (None, 32, 32, 32)        896       \n",
            "                                                                 \n",
            " max_pooling2d (MaxPooling2D  (None, 16, 16, 32)       0         \n",
            " )                                                               \n",
            "                                                                 \n",
            " conv2d_1 (Conv2D)           (None, 16, 16, 32)        9248      \n",
            "                                                                 \n",
            " max_pooling2d_1 (MaxPooling  (None, 8, 8, 32)         0         \n",
            " 2D)                                                             \n",
            "                                                                 \n",
            " conv2d_2 (Conv2D)           (None, 8, 8, 64)          18496     \n",
            "                                                                 \n",
            " max_pooling2d_2 (MaxPooling  (None, 4, 4, 64)         0         \n",
            " 2D)                                                             \n",
            "                                                                 \n",
            " conv2d_3 (Conv2D)           (None, 4, 4, 64)          36928     \n",
            "                                                                 \n",
            " max_pooling2d_3 (MaxPooling  (None, 2, 2, 64)         0         \n",
            " 2D)                                                             \n",
            "                                                                 \n",
            " conv2d_4 (Conv2D)           (None, 2, 2, 128)         73856     \n",
            "                                                                 \n",
            " max_pooling2d_4 (MaxPooling  (None, 1, 1, 128)        0         \n",
            " 2D)                                                             \n",
            "                                                                 \n",
            " conv2d_5 (Conv2D)           (None, 1, 1, 128)         147584    \n",
            "                                                                 \n",
            " flatten (Flatten)           (None, 128)               0         \n",
            "                                                                 \n",
            " dense (Dense)               (None, 128)               16512     \n",
            "                                                                 \n",
            " dense_1 (Dense)             (None, 10)                1290      \n",
            "                                                                 \n",
            "=================================================================\n",
            "Total params: 304,810\n",
            "Trainable params: 304,810\n",
            "Non-trainable params: 0\n",
            "_________________________________________________________________\n"
          ]
        }
      ]
    },
    {
      "cell_type": "code",
      "source": [
        "# Compile Model\n",
        "model.compile(optimizer=OPTIMIZER,\n",
        "              loss=LOSS, metrics=[\"accuracy\"])\n",
        "# Train Model \n",
        "history = model.fit(x_train, y_train,\n",
        "          batch_size=32,\n",
        "          epochs=80, validation_split=0.2)\n",
        "\n",
        "# Evaluate Model\n",
        "print(\"\\n\")\n",
        "evaluation = model.evaluate(x_test,y_test, verbose=2)"
      ],
      "metadata": {
        "colab": {
          "base_uri": "https://localhost:8080/"
        },
        "id": "OFa4WJvqd7bi",
        "outputId": "8dc7023b-7446-4f9b-f9eb-786c43203e03"
      },
      "execution_count": 12,
      "outputs": [
        {
          "output_type": "stream",
          "name": "stdout",
          "text": [
            "Epoch 1/80\n",
            "1250/1250 [==============================] - 18s 5ms/step - loss: 1.6284 - accuracy: 0.3977 - val_loss: 1.3256 - val_accuracy: 0.5156\n",
            "Epoch 2/80\n",
            "1250/1250 [==============================] - 6s 5ms/step - loss: 1.2405 - accuracy: 0.5564 - val_loss: 1.1902 - val_accuracy: 0.5680\n",
            "Epoch 3/80\n",
            "1250/1250 [==============================] - 6s 5ms/step - loss: 1.0725 - accuracy: 0.6191 - val_loss: 1.0644 - val_accuracy: 0.6249\n",
            "Epoch 4/80\n",
            "1250/1250 [==============================] - 6s 5ms/step - loss: 0.9676 - accuracy: 0.6637 - val_loss: 1.0173 - val_accuracy: 0.6537\n",
            "Epoch 5/80\n",
            "1250/1250 [==============================] - 6s 5ms/step - loss: 0.8895 - accuracy: 0.6895 - val_loss: 0.9478 - val_accuracy: 0.6761\n",
            "Epoch 6/80\n",
            "1250/1250 [==============================] - 6s 5ms/step - loss: 0.8476 - accuracy: 0.7075 - val_loss: 1.0236 - val_accuracy: 0.6545\n",
            "Epoch 7/80\n",
            "1250/1250 [==============================] - 6s 5ms/step - loss: 0.8095 - accuracy: 0.7206 - val_loss: 1.0283 - val_accuracy: 0.6735\n",
            "Epoch 8/80\n",
            "1250/1250 [==============================] - 6s 5ms/step - loss: 0.7864 - accuracy: 0.7311 - val_loss: 1.2497 - val_accuracy: 0.6297\n",
            "Epoch 9/80\n",
            "1250/1250 [==============================] - 6s 5ms/step - loss: 0.7679 - accuracy: 0.7425 - val_loss: 0.9611 - val_accuracy: 0.6808\n",
            "Epoch 10/80\n",
            "1250/1250 [==============================] - 6s 5ms/step - loss: 0.7567 - accuracy: 0.7452 - val_loss: 0.9639 - val_accuracy: 0.6749\n",
            "Epoch 11/80\n",
            "1250/1250 [==============================] - 6s 5ms/step - loss: 0.7492 - accuracy: 0.7499 - val_loss: 1.0290 - val_accuracy: 0.6736\n",
            "Epoch 12/80\n",
            "1250/1250 [==============================] - 6s 5ms/step - loss: 0.7403 - accuracy: 0.7569 - val_loss: 1.1210 - val_accuracy: 0.7032\n",
            "Epoch 13/80\n",
            "1250/1250 [==============================] - 8s 6ms/step - loss: 0.7351 - accuracy: 0.7584 - val_loss: 1.3879 - val_accuracy: 0.6895\n",
            "Epoch 14/80\n",
            "1250/1250 [==============================] - 7s 5ms/step - loss: 0.7240 - accuracy: 0.7612 - val_loss: 1.2723 - val_accuracy: 0.6767\n",
            "Epoch 15/80\n",
            "1250/1250 [==============================] - 6s 5ms/step - loss: 0.7190 - accuracy: 0.7660 - val_loss: 1.3232 - val_accuracy: 0.6952\n",
            "Epoch 16/80\n",
            "1250/1250 [==============================] - 6s 5ms/step - loss: 0.7154 - accuracy: 0.7674 - val_loss: 1.7981 - val_accuracy: 0.6288\n",
            "Epoch 17/80\n",
            "1250/1250 [==============================] - 6s 5ms/step - loss: 0.7316 - accuracy: 0.7663 - val_loss: 1.2705 - val_accuracy: 0.6353\n",
            "Epoch 18/80\n",
            "1250/1250 [==============================] - 7s 6ms/step - loss: 0.7264 - accuracy: 0.7711 - val_loss: 1.6374 - val_accuracy: 0.6663\n",
            "Epoch 19/80\n",
            "1250/1250 [==============================] - 6s 5ms/step - loss: 0.7328 - accuracy: 0.7701 - val_loss: 1.1619 - val_accuracy: 0.6825\n",
            "Epoch 20/80\n",
            "1250/1250 [==============================] - 6s 5ms/step - loss: 0.6988 - accuracy: 0.7763 - val_loss: 1.1477 - val_accuracy: 0.6890\n",
            "Epoch 21/80\n",
            "1250/1250 [==============================] - 6s 5ms/step - loss: 0.7114 - accuracy: 0.7766 - val_loss: 1.3728 - val_accuracy: 0.6895\n",
            "Epoch 22/80\n",
            "1250/1250 [==============================] - 6s 5ms/step - loss: 0.7201 - accuracy: 0.7731 - val_loss: 1.2558 - val_accuracy: 0.6424\n",
            "Epoch 23/80\n",
            "1250/1250 [==============================] - 6s 5ms/step - loss: 0.7400 - accuracy: 0.7760 - val_loss: 1.2902 - val_accuracy: 0.6090\n",
            "Epoch 24/80\n",
            "1250/1250 [==============================] - 6s 5ms/step - loss: 0.7383 - accuracy: 0.7754 - val_loss: 1.0389 - val_accuracy: 0.7108\n",
            "Epoch 25/80\n",
            "1250/1250 [==============================] - 6s 5ms/step - loss: 0.7149 - accuracy: 0.7784 - val_loss: 1.0803 - val_accuracy: 0.6897\n",
            "Epoch 26/80\n",
            "1250/1250 [==============================] - 6s 5ms/step - loss: 0.7741 - accuracy: 0.7761 - val_loss: 1.1390 - val_accuracy: 0.6754\n",
            "Epoch 27/80\n",
            "1250/1250 [==============================] - 6s 5ms/step - loss: 0.9321 - accuracy: 0.7802 - val_loss: 2.0489 - val_accuracy: 0.6921\n",
            "Epoch 28/80\n",
            "1250/1250 [==============================] - 6s 5ms/step - loss: 0.7134 - accuracy: 0.7788 - val_loss: 1.1987 - val_accuracy: 0.6979\n",
            "Epoch 29/80\n",
            "1250/1250 [==============================] - 6s 5ms/step - loss: 0.7110 - accuracy: 0.7841 - val_loss: 1.0972 - val_accuracy: 0.6904\n",
            "Epoch 30/80\n",
            "1250/1250 [==============================] - 6s 5ms/step - loss: 1.0403 - accuracy: 0.7847 - val_loss: 1.2926 - val_accuracy: 0.6556\n",
            "Epoch 31/80\n",
            "1250/1250 [==============================] - 6s 5ms/step - loss: 0.8709 - accuracy: 0.7886 - val_loss: 1.4858 - val_accuracy: 0.7087\n",
            "Epoch 32/80\n",
            "1250/1250 [==============================] - 6s 5ms/step - loss: 0.7180 - accuracy: 0.7811 - val_loss: 1.4505 - val_accuracy: 0.6346\n",
            "Epoch 33/80\n",
            "1250/1250 [==============================] - 6s 5ms/step - loss: 0.7315 - accuracy: 0.7826 - val_loss: 1.4225 - val_accuracy: 0.6903\n",
            "Epoch 34/80\n",
            "1250/1250 [==============================] - 7s 5ms/step - loss: 0.7517 - accuracy: 0.7837 - val_loss: 1.3509 - val_accuracy: 0.6275\n",
            "Epoch 35/80\n",
            "1250/1250 [==============================] - 7s 5ms/step - loss: 1.3363 - accuracy: 0.7898 - val_loss: 6.6822 - val_accuracy: 0.6269\n",
            "Epoch 36/80\n",
            "1250/1250 [==============================] - 6s 5ms/step - loss: 0.6853 - accuracy: 0.7937 - val_loss: 1.3885 - val_accuracy: 0.6973\n",
            "Epoch 37/80\n",
            "1250/1250 [==============================] - 6s 5ms/step - loss: 0.6972 - accuracy: 0.7897 - val_loss: 1.4091 - val_accuracy: 0.6817\n",
            "Epoch 38/80\n",
            "1250/1250 [==============================] - 6s 5ms/step - loss: 3.5725 - accuracy: 0.7990 - val_loss: 2.4272 - val_accuracy: 0.6812\n",
            "Epoch 39/80\n",
            "1250/1250 [==============================] - 6s 5ms/step - loss: 0.7064 - accuracy: 0.7900 - val_loss: 1.3928 - val_accuracy: 0.6330\n",
            "Epoch 40/80\n",
            "1250/1250 [==============================] - 6s 5ms/step - loss: 0.7065 - accuracy: 0.7872 - val_loss: 1.8632 - val_accuracy: 0.6789\n",
            "Epoch 41/80\n",
            "1250/1250 [==============================] - 6s 5ms/step - loss: 0.7156 - accuracy: 0.7964 - val_loss: 2.3404 - val_accuracy: 0.7015\n",
            "Epoch 42/80\n",
            "1250/1250 [==============================] - 6s 5ms/step - loss: 0.7430 - accuracy: 0.8005 - val_loss: 2.0422 - val_accuracy: 0.6799\n",
            "Epoch 43/80\n",
            "1250/1250 [==============================] - 6s 5ms/step - loss: 1.4381 - accuracy: 0.8001 - val_loss: 1.4459 - val_accuracy: 0.6357\n",
            "Epoch 44/80\n",
            "1250/1250 [==============================] - 6s 5ms/step - loss: 0.7278 - accuracy: 0.7937 - val_loss: 1.5484 - val_accuracy: 0.6905\n",
            "Epoch 45/80\n",
            "1250/1250 [==============================] - 6s 5ms/step - loss: 0.9196 - accuracy: 0.7898 - val_loss: 2.0323 - val_accuracy: 0.6716\n",
            "Epoch 46/80\n",
            "1250/1250 [==============================] - 6s 5ms/step - loss: 0.8100 - accuracy: 0.7879 - val_loss: 1.6308 - val_accuracy: 0.6033\n",
            "Epoch 47/80\n",
            "1250/1250 [==============================] - 7s 5ms/step - loss: 1.1837 - accuracy: 0.7922 - val_loss: 3.0510 - val_accuracy: 0.7143\n",
            "Epoch 48/80\n",
            "1250/1250 [==============================] - 6s 5ms/step - loss: 0.7178 - accuracy: 0.7933 - val_loss: 2.0803 - val_accuracy: 0.7132\n",
            "Epoch 49/80\n",
            "1250/1250 [==============================] - 6s 5ms/step - loss: 0.7844 - accuracy: 0.7928 - val_loss: 1.2407 - val_accuracy: 0.6726\n",
            "Epoch 50/80\n",
            "1250/1250 [==============================] - 6s 5ms/step - loss: 0.7859 - accuracy: 0.7745 - val_loss: 1.6768 - val_accuracy: 0.6869\n",
            "Epoch 51/80\n",
            "1250/1250 [==============================] - 6s 5ms/step - loss: 0.7404 - accuracy: 0.7891 - val_loss: 1.6533 - val_accuracy: 0.6829\n",
            "Epoch 52/80\n",
            "1250/1250 [==============================] - 6s 5ms/step - loss: 0.7700 - accuracy: 0.7826 - val_loss: 1.5001 - val_accuracy: 0.7098\n",
            "Epoch 53/80\n",
            "1250/1250 [==============================] - 6s 5ms/step - loss: 0.9981 - accuracy: 0.7681 - val_loss: 1.2558 - val_accuracy: 0.5937\n",
            "Epoch 54/80\n",
            "1250/1250 [==============================] - 6s 5ms/step - loss: 0.9539 - accuracy: 0.7667 - val_loss: 1.3143 - val_accuracy: 0.6463\n",
            "Epoch 55/80\n",
            "1250/1250 [==============================] - 6s 5ms/step - loss: 0.8879 - accuracy: 0.7545 - val_loss: 1.3705 - val_accuracy: 0.6064\n",
            "Epoch 56/80\n",
            "1250/1250 [==============================] - 7s 5ms/step - loss: 0.8615 - accuracy: 0.7610 - val_loss: 3.7121 - val_accuracy: 0.6074\n",
            "Epoch 57/80\n",
            "1250/1250 [==============================] - 6s 5ms/step - loss: 2.9886 - accuracy: 0.7599 - val_loss: 2.9289 - val_accuracy: 0.6814\n",
            "Epoch 58/80\n",
            "1250/1250 [==============================] - 6s 5ms/step - loss: 0.9511 - accuracy: 0.7539 - val_loss: 3.5347 - val_accuracy: 0.6815\n",
            "Epoch 59/80\n",
            "1250/1250 [==============================] - 7s 5ms/step - loss: 1.1031 - accuracy: 0.7491 - val_loss: 1.4147 - val_accuracy: 0.5779\n",
            "Epoch 60/80\n",
            "1250/1250 [==============================] - 6s 5ms/step - loss: 0.8794 - accuracy: 0.7500 - val_loss: 1.3238 - val_accuracy: 0.6577\n",
            "Epoch 61/80\n",
            "1250/1250 [==============================] - 6s 5ms/step - loss: 1.0347 - accuracy: 0.7448 - val_loss: 1.7478 - val_accuracy: 0.6426\n",
            "Epoch 62/80\n",
            "1250/1250 [==============================] - 7s 5ms/step - loss: 0.9149 - accuracy: 0.7430 - val_loss: 2.6358 - val_accuracy: 0.6912\n",
            "Epoch 63/80\n",
            "1250/1250 [==============================] - 7s 6ms/step - loss: 1.0836 - accuracy: 0.7136 - val_loss: 1.5852 - val_accuracy: 0.4755\n",
            "Epoch 64/80\n",
            "1250/1250 [==============================] - 7s 6ms/step - loss: 1.0662 - accuracy: 0.7274 - val_loss: 1.7626 - val_accuracy: 0.6906\n",
            "Epoch 65/80\n",
            "1250/1250 [==============================] - 6s 5ms/step - loss: 1.0128 - accuracy: 0.7272 - val_loss: 2.3183 - val_accuracy: 0.6080\n",
            "Epoch 66/80\n",
            "1250/1250 [==============================] - 6s 5ms/step - loss: 1.1618 - accuracy: 0.7393 - val_loss: 1.6295 - val_accuracy: 0.6154\n",
            "Epoch 67/80\n",
            "1250/1250 [==============================] - 7s 6ms/step - loss: 0.9680 - accuracy: 0.7401 - val_loss: 1.8482 - val_accuracy: 0.6633\n",
            "Epoch 68/80\n",
            "1250/1250 [==============================] - 7s 5ms/step - loss: 1.4606 - accuracy: 0.7335 - val_loss: 1.6092 - val_accuracy: 0.6649\n",
            "Epoch 69/80\n",
            "1250/1250 [==============================] - 6s 5ms/step - loss: 0.9800 - accuracy: 0.7303 - val_loss: 1.3648 - val_accuracy: 0.5184\n",
            "Epoch 70/80\n",
            "1250/1250 [==============================] - 6s 5ms/step - loss: 1.2756 - accuracy: 0.7340 - val_loss: 1.2530 - val_accuracy: 0.6455\n",
            "Epoch 71/80\n",
            "1250/1250 [==============================] - 6s 5ms/step - loss: 0.9710 - accuracy: 0.7336 - val_loss: 1.9456 - val_accuracy: 0.5309\n",
            "Epoch 72/80\n",
            "1250/1250 [==============================] - 7s 5ms/step - loss: 1.6133 - accuracy: 0.7326 - val_loss: 3.7955 - val_accuracy: 0.6822\n",
            "Epoch 73/80\n",
            "1250/1250 [==============================] - 7s 5ms/step - loss: 0.9534 - accuracy: 0.7347 - val_loss: 1.4318 - val_accuracy: 0.6733\n",
            "Epoch 74/80\n",
            "1250/1250 [==============================] - 6s 5ms/step - loss: 0.9894 - accuracy: 0.7249 - val_loss: 1.4577 - val_accuracy: 0.6368\n",
            "Epoch 75/80\n",
            "1250/1250 [==============================] - 6s 5ms/step - loss: 1.1081 - accuracy: 0.7120 - val_loss: 1.5811 - val_accuracy: 0.6588\n",
            "Epoch 76/80\n",
            "1250/1250 [==============================] - 6s 5ms/step - loss: 7.2274 - accuracy: 0.7196 - val_loss: 1.8794 - val_accuracy: 0.6203\n",
            "Epoch 77/80\n",
            "1250/1250 [==============================] - 6s 5ms/step - loss: 0.9962 - accuracy: 0.7209 - val_loss: 1.2785 - val_accuracy: 0.6483\n",
            "Epoch 78/80\n",
            "1250/1250 [==============================] - 6s 5ms/step - loss: 1.0365 - accuracy: 0.7057 - val_loss: 1.4321 - val_accuracy: 0.5704\n",
            "Epoch 79/80\n",
            "1250/1250 [==============================] - 6s 5ms/step - loss: 1.0678 - accuracy: 0.7041 - val_loss: 4.7519 - val_accuracy: 0.6483\n",
            "Epoch 80/80\n",
            "1250/1250 [==============================] - 6s 5ms/step - loss: 1.1707 - accuracy: 0.7121 - val_loss: 1.4563 - val_accuracy: 0.6769\n",
            "\n",
            "\n",
            "313/313 - 1s - loss: 1.4547 - accuracy: 0.6714 - 655ms/epoch - 2ms/step\n"
          ]
        }
      ]
    },
    {
      "cell_type": "code",
      "source": [
        "evaluation = model.evaluate(x_test,y_test, verbose=2)\n"
      ],
      "metadata": {
        "colab": {
          "base_uri": "https://localhost:8080/"
        },
        "id": "zVEyyB-pdbym",
        "outputId": "1a1d2e6a-feef-4705-b27d-bd69328f83fe"
      },
      "execution_count": 15,
      "outputs": [
        {
          "output_type": "stream",
          "name": "stdout",
          "text": [
            "313/313 - 1s - loss: 1.4547 - accuracy: 0.6714 - 653ms/epoch - 2ms/step\n"
          ]
        }
      ]
    },
    {
      "cell_type": "code",
      "source": [
        "!pwd"
      ],
      "metadata": {
        "colab": {
          "base_uri": "https://localhost:8080/"
        },
        "id": "J6sEbG8xVAqd",
        "outputId": "5a540272-b7ce-46bf-833c-5c982c5decf8"
      },
      "execution_count": 17,
      "outputs": [
        {
          "output_type": "stream",
          "name": "stdout",
          "text": [
            "/content/AttaCoeurs\n"
          ]
        }
      ]
    },
    {
      "cell_type": "code",
      "source": [
        "filepath = \"/content/myDrive/MyDrive/Projet DL/model_weights/cifar10_weights\"\n",
        "model.save_weights(filepath, overwrite=True, save_format=None, options=None)\n",
        "print('Model Saved!')"
      ],
      "metadata": {
        "colab": {
          "base_uri": "https://localhost:8080/"
        },
        "id": "kGemKsuiS-fY",
        "outputId": "cc1eecc8-5819-4c1d-82cd-84515f672833"
      },
      "execution_count": 13,
      "outputs": [
        {
          "output_type": "stream",
          "name": "stdout",
          "text": [
            "Model Saved!\n"
          ]
        }
      ]
    },
    {
      "cell_type": "code",
      "source": [
        "# load model\n",
        "savedModel = model.load_weights(filepath)\n",
        "print('Model Loaded!')"
      ],
      "metadata": {
        "colab": {
          "base_uri": "https://localhost:8080/"
        },
        "id": "BRR0lBXfTtTr",
        "outputId": "37510dbf-8c46-43ce-b823-7348c4005c3f"
      },
      "execution_count": 14,
      "outputs": [
        {
          "output_type": "stream",
          "name": "stdout",
          "text": [
            "Model Loaded!\n"
          ]
        }
      ]
    },
    {
      "cell_type": "code",
      "source": [
        "x_test[0].shape"
      ],
      "metadata": {
        "colab": {
          "base_uri": "https://localhost:8080/"
        },
        "id": "alx3k4A2aRCs",
        "outputId": "72cec029-2627-429d-a18c-c387694bd751"
      },
      "execution_count": 17,
      "outputs": [
        {
          "output_type": "execute_result",
          "data": {
            "text/plain": [
              "TensorShape([32, 32, 3])"
            ]
          },
          "metadata": {},
          "execution_count": 17
        }
      ]
    },
    {
      "cell_type": "code",
      "source": [
        "pred = model.predict(tf.expand_dims(x_test[0], axis=0))\n"
      ],
      "metadata": {
        "id": "wzPnX4rMbcr7"
      },
      "execution_count": 20,
      "outputs": []
    },
    {
      "cell_type": "code",
      "source": [
        "pred"
      ],
      "metadata": {
        "colab": {
          "base_uri": "https://localhost:8080/"
        },
        "id": "CzN9j9hMb060",
        "outputId": "c043b5d9-2b6b-436d-8e02-7f6cc2292da7"
      },
      "execution_count": 21,
      "outputs": [
        {
          "output_type": "execute_result",
          "data": {
            "text/plain": [
              "array([[0.10946739, 0.1678851 , 0.11675544, 0.06360476, 0.11771584,\n",
              "        0.06758458, 0.11948753, 0.1097965 , 0.06881279, 0.05888999]],\n",
              "      dtype=float32)"
            ]
          },
          "metadata": {},
          "execution_count": 21
        }
      ]
    },
    {
      "cell_type": "code",
      "source": [
        ""
      ],
      "metadata": {
        "id": "F3x-aC_Pcgge"
      },
      "execution_count": 22,
      "outputs": []
    },
    {
      "cell_type": "code",
      "source": [
        "lab = get_label(pred)\n"
      ],
      "metadata": {
        "id": "wU89no_Xc2Av"
      },
      "execution_count": 23,
      "outputs": []
    },
    {
      "cell_type": "code",
      "source": [
        "lab"
      ],
      "metadata": {
        "colab": {
          "base_uri": "https://localhost:8080/",
          "height": 35
        },
        "id": "VJqil1Zcc6sF",
        "outputId": "883f74e4-988c-4797-97ad-d4bef6cccf2b"
      },
      "execution_count": 24,
      "outputs": [
        {
          "output_type": "execute_result",
          "data": {
            "text/plain": [
              "'automobile'"
            ],
            "application/vnd.google.colaboratory.intrinsic+json": {
              "type": "string"
            }
          },
          "metadata": {},
          "execution_count": 24
        }
      ]
    },
    {
      "cell_type": "markdown",
      "source": [
        "# PART 2 BLACKBOX ATTACK"
      ],
      "metadata": {
        "id": "LSilRFttwG31"
      }
    },
    {
      "cell_type": "code",
      "source": [
        "import numpy as np\n",
        "import time\n",
        "import os\n",
        "from PIL import Image\n",
        "\n",
        "\n"
      ],
      "metadata": {
        "id": "AXwAeeV5jmB7"
      },
      "execution_count": 26,
      "outputs": []
    },
    {
      "cell_type": "code",
      "source": [
        "class BoundaryAttack:\n",
        "    \"\"\"\n",
        "    Object Boundary Attack, use method __call__ to create adversarial examples\n",
        "    \"\"\"\n",
        "\n",
        "    def __init__(self, image_size, delta, epsilon, model_weights):\n",
        "        print(\"Initializing the instance\")\n",
        "        self.image_size = image_size\n",
        "        self.delta = delta\n",
        "        self.epsilon = epsilon\n",
        "        self.model_weights = model_weights\n",
        "\n",
        "    def orthogonal_perturbation(self, prev_sample, target_sample):\n",
        "        \"\"\"\n",
        "        Method to generate the orthogonal projection.\n",
        "\n",
        "        :param prev_sample:\n",
        "        :param target_sample:\n",
        "        \"\"\"\n",
        "        # Sample from a Gaussian Distribution eta(k) perturbation\n",
        "        perturb = np.random.randn(1, 32, 32, 3)\n",
        "\n",
        "        # Rescale and clip the perturbation such that condition (1) and (2) hold\n",
        "        # Basically getting the unit vector of the perturbation (Frobenius norm)\n",
        "        perturb = perturb / np.linalg.norm(perturb, axis=(1,2))\n",
        "\n",
        "        # Multiply the unit vector by the magnitude of the normalized perturbation\n",
        "        perturb = perturb * (self.delta * np.mean(self.get_diff(target_sample, prev_sample))\n",
        "        )\n",
        "\n",
        "        # Project the perturbation onto the sphere  around the target\n",
        "        # Orthogonal vector to sphere surface \n",
        "        diff = (target_sample - prev_sample).astype(np.float32)\n",
        "\n",
        "        # Getting the orthogonal unit vector\n",
        "        diff = diff / self.get_diff(target_sample - prev_sample)\n",
        "\n",
        "        # We project onto the orthogonal then substract from perturb\n",
        "        perturb = perturb - ((np.vdot(perturb, diff) / np.linalg.norm(diff) ** 2) * diff)\n",
        "\n",
        "        # Check the overflow\n",
        "        overflow = (prev_sample + perturb) - 255\n",
        "        perturb -= overflow * (overflow > 0)\n",
        "        return perturb \n",
        "\n",
        "\n",
        "    def get_diff(self, sample_1, sample_2):\n",
        "\t    \"\"\"\n",
        "        Channel-wise norm of difference between samples.\n",
        "        \"\"\"\n",
        "\t    return np.linalg.norm(sample_1 - sample_2, axis=(1, 2))\n",
        "\n",
        "    def forward_perturbation(self, prev_sample, target_sample):\n",
        "        \"\"\"\n",
        "        Generate forward perturbation - the perturbation reduces the distance\n",
        "        of the perturbed image towards the original input by a relative amount\n",
        "        epsilon.\n",
        "\n",
        "        :param prev_sample: \n",
        "        :param target_sample:\n",
        "        \"\"\"\n",
        "        perturb = (target_sample - prev_sample).astype(np.float32)\n",
        "        perturb = perturb * epsilon\n",
        "        return perturb\n",
        "\n",
        "    def get_converted_pred(self, sample, model):\n",
        "        \"\"\"\n",
        "        \"\"\"\n",
        "        sample = (sample).astype(np.uint8).astype(np.float32)\n",
        "        label = model.predict(sample)\n",
        "        return label\n",
        "\n",
        "    def preprocess(sample_path):\n",
        "\t    \"\"\"Load and preprocess image file.\"\"\"\n",
        "\t    img = image.load_img(sample_path, target_size=(224, 224))\n",
        "\t    x = image.img_to_array(img)\n",
        "\t    x = np.expand_dims(x, axis=0)\n",
        "\t    x = preprocess_input(x)\n",
        "\t    return x\n",
        "\n",
        "    def get_label(self, pred):\n",
        "        \"\"\"\n",
        "            Method to get the label\n",
        "        \"\"\"\n",
        "        dict = {0 : \"airplane\",\n",
        "            1 : \"automobile\",\n",
        "            2 :\"bird\",\n",
        "            3 : \"cat\",\n",
        "            4:  \"deer\",\n",
        "            5: \"dog\",\n",
        "            6 : \"frog\",\n",
        "            7 : \"horse\",\n",
        "            8 : \"ship\",\n",
        "            9 : \"truck\"}\n",
        "        high_class = np.argmax(pred)\n",
        "        label = dict[high_class]\n",
        "        return label\n",
        "\n",
        "\n",
        "    \n",
        "    def __call__(self, model):\n",
        "        \n",
        "\t    # Load model, images and other parameters\n",
        "\t    classifier = model.load_weights(self.model_weights)\n",
        "\n",
        "        # Pick initial example and target class randomly\n",
        "\t    initial_sample = preprocess('images/original/awkward_moment_seal.png')\n",
        "\t    target_sample = preprocess('images/original/bad_joke_eel.png')\n",
        "     \n",
        "\n",
        "\t    folder = time.strftime('%Y%m%d_%H%M%S', time.localtime())\n",
        "\t    os.mkdir(os.path.join(\"images\", folder))\n",
        "\t    save_image(np.copy(initial_sample), classifier, folder)\n",
        "\t    attack_class = np.argmax(classifier.predict(initial_sample))\n",
        "\t    target_class = np.argmax(classifier.predict(target_sample))\n",
        "\n",
        "\t    adversarial_sample = initial_sample\n",
        "\t    n_steps = 0\n",
        "\t    n_calls = 0\n",
        "\t    epsilon = 1.\n",
        "\t    delta = 0.1\n",
        "\n",
        "\t    # Move first step to the boundary\n",
        "\t    while True:\n",
        "\t    \ttrial_sample = adversarial_sample + self.forward_perturbation(adversarial_sample, target_sample)\n",
        "\t    \tprediction = classifier.predict(trial_sample)\n",
        "\t    \tn_calls += 1\n",
        "\t    \tif np.argmax(prediction) == attack_class:\n",
        "\t    \t\tadversarial_sample = trial_sample\n",
        "\t    \t\tbreak\n",
        "\t    \telse:\n",
        "\t    \t\tepsilon *= 0.9\n",
        "\n",
        "\t    # Iteratively run attack\n",
        "\t    while True:\n",
        "\t    \tprint(\"Step #{}...\".format(n_steps))\n",
        "\t    \t# Orthogonal step\n",
        "\t    \tprint(\"\\tDelta step...\")\n",
        "\t    \td_step = 0\n",
        "\t    \twhile True:\n",
        "\t    \t\td_step += 1\n",
        "\t    \t\tprint(\"\\t#{}\".format(d_step))\n",
        "\t    \t\ttrial_samples = []\n",
        "\t    \t\tfor i in np.arange(10):\n",
        "\t    \t\t\ttrial_sample = adversarial_sample + orthogonal_perturbation(delta, adversarial_sample, target_sample)\n",
        "\t    \t\t\ttrial_samples.append(trial_sample)\n",
        "\t    \t\tpredictions = classifier.predict(trial_samples)\n",
        "\t    \t\tn_calls += 10\n",
        "\t    \t\tpredictions = np.argmax(predictions, axis=1)\n",
        "\t    \t\td_score = np.mean(predictions == attack_class)\n",
        "\t    \t\tif d_score > 0.0:\n",
        "\t    \t\t\tif d_score < 0.3:\n",
        "\t    \t\t\t\tdelta *= 0.9\n",
        "\t    \t\t\telif d_score > 0.7:\n",
        "\t    \t\t\t\tdelta /= 0.9\n",
        "\t    \t\t\tadversarial_sample = np.array(trial_samples)[np.where(predictions == attack_class)[0][0]]\n",
        "\t    \t\t\tbreak\n",
        "\t    \t\telse:\n",
        "\t    \t\t\tdelta *= 0.9\n",
        "\t    \t# Forward step\n",
        "\t    \tprint(\"\\tEpsilon step...\")\n",
        "\t    \te_step = 0\n",
        "\t    \twhile True:\n",
        "\t    \t\te_step += 1\n",
        "\t    \t\tprint(\"\\t#{}\".format(e_step))\n",
        "\t    \t\ttrial_sample = adversarial_sample + forward_perturbation(epsilon, adversarial_sample, target_sample)\n",
        "\t    \t\tprediction = classifier.predict(trial_sample)\n",
        "\t    \t\tn_calls += 1\n",
        "\t    \t\tif np.argmax(prediction) == attack_class:\n",
        "\t    \t\t\tadversarial_sample = trial_sample\n",
        "\t    \t\t\tepsilon /= 0.5\n",
        "\t    \t\t\tbreak\n",
        "\t    \t\telif e_step > 500:\n",
        "\t    \t\t\tbreak\n",
        "\t\t\t    else:\n",
        "                    epsilon *= 0.5\n",
        "\n",
        "\t\t    n_steps += 1\n",
        "\t\t    chkpts = [1, 5, 10, 50, 100, 500]\n",
        "\t\t    if (n_steps in chkpts) or (n_steps % 500 == 0):\n",
        "\t\t    \tprint(\"{} steps\".format(n_steps))\n",
        "\t\t    \tsave_image(np.copy(adversarial_sample), classifier, folder)\n",
        "\t\t    diff = np.mean(get_diff(adversarial_sample, target_sample))\n",
        "\t\t    if diff <= 1e-3 or e_step > 500:\n",
        "\t\t    \tprint(\"{} steps\".format(n_steps))\n",
        "\t\t    \tprint(\"Mean Squared Error: {}\".format(diff))\n",
        "\t\t    \tsave_image(np.copy(adversarial_sample), classifier, folder)\n",
        "\t\t    \tbreak\n",
        "\n",
        "\t\t    print(\"Mean Squared Error: {}\".format(diff))\n",
        "\t\t    print(\"Calls: {}\".format(n_calls))\n",
        "\t\t    print(\"Attack Class: {}\".format(attack_class))\n",
        "\t\t    print(\"Target Class: {}\".format(target_class))\n",
        "\t\t    print(\"Adversarial Class: {}\".format(np.argmax(prediction)))\n",
        "  \n"
      ],
      "metadata": {
        "colab": {
          "base_uri": "https://localhost:8080/",
          "height": 130
        },
        "id": "GKhVKneH3Zo_",
        "outputId": "74c2c07a-9dde-4569-9b45-b2390fdd484a"
      },
      "execution_count": 25,
      "outputs": [
        {
          "output_type": "error",
          "ename": "IndentationError",
          "evalue": "ignored",
          "traceback": [
            "\u001b[0;36m  File \u001b[0;32m\"<ipython-input-25-763c3bd192ff>\"\u001b[0;36m, line \u001b[0;32m175\u001b[0m\n\u001b[0;31m    else:\u001b[0m\n\u001b[0m         ^\u001b[0m\n\u001b[0;31mIndentationError\u001b[0m\u001b[0;31m:\u001b[0m unindent does not match any outer indentation level\n"
          ]
        }
      ]
    },
    {
      "cell_type": "code",
      "source": [
        "perturb = np.random.randn(1, *(224, 224, 3))\n",
        "perturb = perturb / np.linalg.norm(perturb, axis=(1, 2))"
      ],
      "metadata": {
        "id": "QRS7urjO0QkH"
      },
      "execution_count": null,
      "outputs": []
    },
    {
      "cell_type": "code",
      "source": [
        "perturb = np.random.randn(1, 224, 224, 3)\n",
        "perturb.shape\n",
        "perturb"
      ],
      "metadata": {
        "colab": {
          "base_uri": "https://localhost:8080/",
          "height": 304
        },
        "id": "z_WXVaP_5_aX",
        "outputId": "6e9cbd35-3d60-4ac4-f935-b75c7c89b5bc"
      },
      "execution_count": 45,
      "outputs": [
        {
          "output_type": "error",
          "ename": "TypeError",
          "evalue": "ignored",
          "traceback": [
            "\u001b[0;31m---------------------------------------------------------------------------\u001b[0m",
            "\u001b[0;31mTypeError\u001b[0m                                 Traceback (most recent call last)",
            "\u001b[0;32m<ipython-input-45-679e1f632afc>\u001b[0m in \u001b[0;36m<module>\u001b[0;34m()\u001b[0m\n\u001b[0;32m----> 1\u001b[0;31m \u001b[0mperturb\u001b[0m \u001b[0;34m=\u001b[0m \u001b[0mnp\u001b[0m\u001b[0;34m.\u001b[0m\u001b[0mrandom\u001b[0m\u001b[0;34m.\u001b[0m\u001b[0mrandn\u001b[0m\u001b[0;34m(\u001b[0m\u001b[0;36m1\u001b[0m\u001b[0;34m,\u001b[0m \u001b[0;34m[\u001b[0m\u001b[0;36m224\u001b[0m\u001b[0;34m,\u001b[0m \u001b[0;36m224\u001b[0m\u001b[0;34m,\u001b[0m \u001b[0;36m3\u001b[0m\u001b[0;34m]\u001b[0m\u001b[0;34m)\u001b[0m\u001b[0;34m\u001b[0m\u001b[0;34m\u001b[0m\u001b[0m\n\u001b[0m\u001b[1;32m      2\u001b[0m \u001b[0mperturb\u001b[0m\u001b[0;34m.\u001b[0m\u001b[0mshape\u001b[0m\u001b[0;34m\u001b[0m\u001b[0;34m\u001b[0m\u001b[0m\n\u001b[1;32m      3\u001b[0m \u001b[0mperturb\u001b[0m\u001b[0;34m\u001b[0m\u001b[0;34m\u001b[0m\u001b[0m\n",
            "\u001b[0;32mmtrand.pyx\u001b[0m in \u001b[0;36mnumpy.random.mtrand.RandomState.randn\u001b[0;34m()\u001b[0m\n",
            "\u001b[0;32mmtrand.pyx\u001b[0m in \u001b[0;36mnumpy.random.mtrand.RandomState.standard_normal\u001b[0;34m()\u001b[0m\n",
            "\u001b[0;32m_common.pyx\u001b[0m in \u001b[0;36mnumpy.random._common.cont\u001b[0;34m()\u001b[0m\n",
            "\u001b[0;31mTypeError\u001b[0m: 'list' object cannot be interpreted as an integer"
          ]
        }
      ]
    },
    {
      "cell_type": "code",
      "source": [
        "perturb /= np.linalg.norm(perturb, axis=(1, 2))\n",
        "perturb"
      ],
      "metadata": {
        "colab": {
          "base_uri": "https://localhost:8080/"
        },
        "id": "IhV-rnK66H7Y",
        "outputId": "4731ed0a-426a-49de-e2fb-5b07f0bf0f7c"
      },
      "execution_count": 24,
      "outputs": [
        {
          "output_type": "execute_result",
          "data": {
            "text/plain": [
              "array([[[[ 3.49066296e-03,  1.93777196e-03, -4.80984435e-03],\n",
              "         [ 2.69266037e-03,  2.10417116e-03, -4.63658692e-03],\n",
              "         [ 6.42859290e-03, -9.34718440e-03, -7.50181022e-04],\n",
              "         ...,\n",
              "         [-5.59760187e-03, -2.13336672e-03,  3.93314792e-03],\n",
              "         [-2.81394665e-03,  4.85428465e-03,  1.12653709e-03],\n",
              "         [-5.29175854e-05,  9.49804506e-03,  1.07695761e-02]],\n",
              "\n",
              "        [[ 7.34786705e-03,  4.95181657e-03, -4.66485700e-03],\n",
              "         [-2.49297371e-04, -3.01983550e-03,  4.60130612e-03],\n",
              "         [ 3.01278315e-04,  4.37941744e-04,  4.54172519e-03],\n",
              "         ...,\n",
              "         [-5.81005179e-03,  1.42218169e-03,  9.19224747e-03],\n",
              "         [-5.28037841e-03, -4.14497481e-03,  1.29692976e-03],\n",
              "         [ 3.17139334e-03,  5.82867051e-03, -4.78086369e-04]],\n",
              "\n",
              "        [[-1.35603706e-03,  6.27038170e-03,  3.87728727e-03],\n",
              "         [ 3.88820178e-04,  2.52056214e-03,  8.23371908e-04],\n",
              "         [ 5.02677385e-03,  2.20932522e-03,  1.66151587e-02],\n",
              "         ...,\n",
              "         [ 1.16041122e-03, -3.19306378e-03, -7.99959208e-04],\n",
              "         [-4.68472505e-03,  1.67909797e-03,  1.28539280e-03],\n",
              "         [-3.86045391e-03,  4.11065947e-03, -1.12997777e-03]],\n",
              "\n",
              "        ...,\n",
              "\n",
              "        [[-5.51175298e-04, -7.57208468e-03, -5.83536958e-04],\n",
              "         [-3.25560455e-03,  4.22530953e-03, -2.10642167e-03],\n",
              "         [ 1.51406885e-03, -7.98965502e-03,  3.83117012e-03],\n",
              "         ...,\n",
              "         [-1.35495869e-03, -2.17348130e-03,  8.81975182e-04],\n",
              "         [-3.68971577e-03, -4.44350106e-04,  2.28843124e-04],\n",
              "         [ 9.38640581e-03,  5.91663403e-03,  5.68710407e-03]],\n",
              "\n",
              "        [[ 6.16546239e-04, -4.20459270e-03,  5.58809258e-03],\n",
              "         [ 4.80918563e-03, -2.35117159e-03,  4.80172023e-04],\n",
              "         [ 2.80293793e-03,  3.10267832e-03,  3.03078398e-03],\n",
              "         ...,\n",
              "         [ 1.68201054e-03,  5.01431982e-03,  5.64998873e-03],\n",
              "         [ 4.06658505e-03, -3.96439471e-03, -6.50762388e-03],\n",
              "         [-9.04588210e-04, -3.48415626e-03,  2.66670213e-03]],\n",
              "\n",
              "        [[ 2.90390537e-03,  2.16255145e-03,  6.90329015e-03],\n",
              "         [-9.25070185e-03,  4.51166511e-04,  6.82037831e-04],\n",
              "         [-2.73258639e-03, -2.48333163e-03,  7.05704953e-03],\n",
              "         ...,\n",
              "         [-2.33069612e-03, -3.71492365e-03, -2.71724031e-04],\n",
              "         [-3.54637071e-03,  3.03442512e-03, -4.61647814e-03],\n",
              "         [ 8.30677886e-04, -2.97840550e-04,  2.25533919e-03]]]])"
            ]
          },
          "metadata": {},
          "execution_count": 24
        }
      ]
    },
    {
      "cell_type": "code",
      "source": [
        ""
      ],
      "metadata": {
        "id": "twE-pPbT7KKg"
      },
      "execution_count": null,
      "outputs": []
    }
  ],
  "metadata": {
    "accelerator": "GPU",
    "colab": {
      "collapsed_sections": [],
      "machine_shape": "hm",
      "name": "BlackBox Attack_Project.ipynb",
      "provenance": [],
      "include_colab_link": true
    },
    "kernelspec": {
      "display_name": "Python 3",
      "name": "python3"
    },
    "language_info": {
      "name": "python"
    }
  },
  "nbformat": 4,
  "nbformat_minor": 0
}